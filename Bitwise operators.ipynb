{
 "cells": [
  {
   "cell_type": "markdown",
   "metadata": {},
   "source": [
    "# Practical example of Bitwise operators in Python\n",
    "\n",
    "Trainer: Md. Jalal Uddin, Founder and director of Research Society https://researchsociety20.org/founder-and-director/\n",
    "\n",
    "email: dmjalal90@nuist.edu.cn, dmjalal90@gmail.com, "
   ]
  },
  {
   "cell_type": "code",
   "execution_count": null,
   "metadata": {},
   "outputs": [],
   "source": [
    "# decimal [base 10 (0-9)]\n",
    "# binary [base 2 (0-1)] \n",
    "\n",
    "# define variable\n",
    "a = 4\n",
    "b = 12"
   ]
  },
  {
   "cell_type": "markdown",
   "metadata": {},
   "source": [
    "# Syntax\n",
    "\n",
    "Python's \"and\", \"or\" and \"not\" logical operators are designed to work with \"scalars\". \n",
    "Read more: https://stackoverflow.com/questions/21415661/logical-operators-for-boolean-indexing-in-pandas However, \"&\", \"|\" and \"~\" Bitwise operators are designed to work with both \"scalars\" and \"vectors\"."
   ]
  },
  {
   "cell_type": "code",
   "execution_count": null,
   "metadata": {},
   "outputs": [],
   "source": [
    "# binary = prefix 0b\n",
    "\n",
    "print(\"decimal to binary for a =\",bin(a))\n",
    "\n",
    "print(\"decimal to binary for b =\",bin(b))"
   ]
  },
  {
   "cell_type": "code",
   "execution_count": null,
   "metadata": {},
   "outputs": [],
   "source": [
    "print(\"a & b =\", a&b)    \n",
    "                           # https://www.geeksforgeeks.org/python-bitwise-operators/\n",
    "print(\"a | b =\", a | b)  \n",
    "    \n",
    " \n",
    "print(\"~a =\", ~a)          # NOT x = -x − 1     https://www.pyblog.in/programming/bitwise-operators-in-python/\n",
    "\n",
    "# Inside story: \n",
    "# integers to binary\n",
    "# bit by bit operation\n",
    "# output as decimal format\n",
    "\n",
    "\n",
    "# print(bin(5))"
   ]
  },
  {
   "cell_type": "markdown",
   "metadata": {},
   "source": [
    "# Function"
   ]
  },
  {
   "cell_type": "code",
   "execution_count": null,
   "metadata": {},
   "outputs": [],
   "source": [
    "import operator as op\n",
    "\n",
    "print(\"a & b =\", op.__and__(a, b))\n",
    "\n",
    "print(\"a & b =\", op.__or__(a, b))"
   ]
  },
  {
   "cell_type": "markdown",
   "metadata": {},
   "source": [
    "# Example for real data\n",
    "\n",
    "We will monitor wet and dry climate for Rangpur station from 1994 to 1995. \n",
    "The example has been adapted from Uddin et al. (2020). https://link.springer.com/article/10.1007/s12517-020-05302-0"
   ]
  },
  {
   "cell_type": "code",
   "execution_count": null,
   "metadata": {},
   "outputs": [],
   "source": [
    "# Importing the library\n",
    "\n",
    "import pandas as pd\n",
    "import numpy as np\n",
    "\n",
    "# Importing the dataset\n",
    "\n",
    "dataset = pd.read_excel('drought_data.xlsx')\n",
    "#print(dataset)\n",
    "\n",
    "SPI = dataset.SPI[133:156]   #1994-1995\n",
    "\n",
    "print('SPI values = \\n',SPI)\n"
   ]
  },
  {
   "cell_type": "markdown",
   "metadata": {},
   "source": [
    "\n",
    "The climate was wet if the SPI values are greater than 1 and less than 2. Similarly, if the SPI values are less than 1 and less than equal -2, the climate was dry.\n"
   ]
  },
  {
   "cell_type": "code",
   "execution_count": null,
   "metadata": {},
   "outputs": [],
   "source": [
    "#print(\"wet climate = \\n\",SPI.gt(1) & SPI.lt(2))\n",
    "\n",
    "#print(\"dry climate = \\n\",SPI.lt(1) | SPI.le(-2))\n",
    "\n",
    "print(\"not extreme wet climate = \\n\", ~(SPI>2))\n"
   ]
  },
  {
   "cell_type": "code",
   "execution_count": null,
   "metadata": {},
   "outputs": [],
   "source": [
    "\n",
    "print(\"wet climate = \\n\",op.__and__(SPI.gt(1), SPI.lt(2)))\n",
    "\n",
    "print(\"dry climate = \\n\",op.__or__(SPI.lt(1), SPI.le(-2)))\n"
   ]
  },
  {
   "cell_type": "code",
   "execution_count": null,
   "metadata": {},
   "outputs": [],
   "source": []
  }
 ],
 "metadata": {
  "kernelspec": {
   "display_name": "Python 3",
   "language": "python",
   "name": "python3"
  },
  "language_info": {
   "codemirror_mode": {
    "name": "ipython",
    "version": 3
   },
   "file_extension": ".py",
   "mimetype": "text/x-python",
   "name": "python",
   "nbconvert_exporter": "python",
   "pygments_lexer": "ipython3",
   "version": "3.8.3"
  }
 },
 "nbformat": 4,
 "nbformat_minor": 4
}
