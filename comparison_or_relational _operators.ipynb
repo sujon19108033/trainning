{
 "cells": [
  {
   "cell_type": "code",
   "execution_count": null,
   "metadata": {},
   "outputs": [],
   "source": [
    "# Practical example of comparison or relational operators in Python\n",
    "\n",
    "# Trainer: Md. Jalal Uddin, Founder and director of Research Society https://researchsociety20.org/founder-and-director/\n",
    "# email: dmjalal90@gmail.com, dmjalal90@nuist.edu.cn"
   ]
  },
  {
   "cell_type": "code",
   "execution_count": null,
   "metadata": {},
   "outputs": [],
   "source": [
    "# define variable\n",
    "\n",
    "a = 5\n",
    "b = 6"
   ]
  },
  {
   "cell_type": "code",
   "execution_count": null,
   "metadata": {},
   "outputs": [],
   "source": [
    "# comparison or relational operators by Syntax\n",
    "\n",
    "print('If a is greater than b =',a>b)\n",
    "\n",
    "print('If a is less than b =',a<b)\n",
    "\n",
    "print('If a is equal to b =',a==b)\n",
    "\n",
    "print('If a is not equal to b =',a!=b)\n",
    "\n",
    "print('If a is greater than or equal to b =',a>=b)\n",
    "\n",
    "print('If a is less than or equal to b =',a<=b)\n"
   ]
  },
  {
   "cell_type": "code",
   "execution_count": null,
   "metadata": {},
   "outputs": [],
   "source": [
    "# comparison or relational operators by Function\n",
    "\n",
    "# import library\n",
    "import operator as op\n",
    "\n",
    "print('If a is greater than b =',op.gt(a,b))\n",
    "\n",
    "print('If a is less than b =',op.lt(a,b))\n",
    "\n",
    "print('If a is equal to b =',op.eq(a,b))\n",
    "\n",
    "print('If a is not equal to b =',op.ne(a,b))\n",
    "\n",
    "print('If a is greater than or equal to b =',op.ge(a,b))\n",
    "\n",
    "print('If a is less than or equal to b =',op.le(a,b))\n"
   ]
  },
  {
   "cell_type": "code",
   "execution_count": null,
   "metadata": {},
   "outputs": [],
   "source": [
    "# Example for real data\n",
    "# We will monitor drought for Rangpur station from 1994 to 1995\n",
    "# The example has been adapted from Uddin et al. (2020). https://link.springer.com/article/10.1007/s12517-020-05302-0"
   ]
  },
  {
   "cell_type": "code",
   "execution_count": null,
   "metadata": {},
   "outputs": [],
   "source": [
    "# Importing the library\n",
    "\n",
    "import pandas as pd\n",
    "\n",
    "\n",
    "# Importing the dataset\n",
    "\n",
    "dataset = pd.read_excel('comparison_or_relational_operators.xlsx')\n",
    "#print(dataset)\n",
    "\n",
    "SPI = dataset.SPI[133:156]   #1994-1995\n",
    "\n",
    "print('SPI values = \\n',SPI)\n"
   ]
  },
  {
   "cell_type": "code",
   "execution_count": null,
   "metadata": {},
   "outputs": [],
   "source": [
    "# comparison or relational operators by Syntax\n",
    "\n",
    "print('Extreme drought   = \\n',SPI<=-2)"
   ]
  },
  {
   "cell_type": "code",
   "execution_count": null,
   "metadata": {},
   "outputs": [],
   "source": [
    "# comparison or relational operators by Function\n",
    "\n",
    "# define variable \n",
    "Threshold = -2\n",
    "\n",
    "print('Extreme drought   = \\n',op.le(SPI,Threshold))"
   ]
  },
  {
   "cell_type": "code",
   "execution_count": null,
   "metadata": {},
   "outputs": [],
   "source": []
  }
 ],
 "metadata": {
  "kernelspec": {
   "display_name": "Python 3",
   "language": "python",
   "name": "python3"
  },
  "language_info": {
   "codemirror_mode": {
    "name": "ipython",
    "version": 3
   },
   "file_extension": ".py",
   "mimetype": "text/x-python",
   "name": "python",
   "nbconvert_exporter": "python",
   "pygments_lexer": "ipython3",
   "version": "3.8.3"
  }
 },
 "nbformat": 4,
 "nbformat_minor": 4
}
