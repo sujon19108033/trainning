{
  "nbformat": 4,
  "nbformat_minor": 0,
  "metadata": {
    "colab": {
      "name": "Untitled0.ipynb",
      "provenance": [],
      "collapsed_sections": [],
      "authorship_tag": "ABX9TyMB9SXcaMfy8xlA/yy3AeEg",
      "include_colab_link": true
    },
    "kernelspec": {
      "name": "python3",
      "display_name": "Python 3"
    }
  },
  "cells": [
    {
      "cell_type": "markdown",
      "metadata": {
        "id": "view-in-github",
        "colab_type": "text"
      },
      "source": [
        "<a href=\"https://colab.research.google.com/github/sujon19108033/trainning/blob/master/Untitled0.ipynb\" target=\"_parent\"><img src=\"https://colab.research.google.com/assets/colab-badge.svg\" alt=\"Open In Colab\"/></a>"
      ]
    },
    {
      "cell_type": "code",
      "metadata": {
        "id": "7epzjh7POBnF"
      },
      "source": [
        "#first example with python"
      ],
      "execution_count": 17,
      "outputs": []
    },
    {
      "cell_type": "code",
      "metadata": {
        "id": "i1__Wu2bOMHH"
      },
      "source": [
        "a = 5\n",
        "b = 8"
      ],
      "execution_count": 18,
      "outputs": []
    },
    {
      "cell_type": "code",
      "metadata": {
        "id": "p-Ay7ju6OUx0"
      },
      "source": [
        "#addition by syntex\n",
        "\n",
        "c = a+b\n",
        "\n",
        "#print('addition by syntex = ',c)  #output\n"
      ],
      "execution_count": 19,
      "outputs": []
    },
    {
      "cell_type": "code",
      "metadata": {
        "id": "cdCCzdtoPalC"
      },
      "source": [
        "\n",
        "import operator as op \n"
      ],
      "execution_count": 20,
      "outputs": []
    },
    {
      "cell_type": "code",
      "metadata": {
        "id": "uio5c0pDPq--"
      },
      "source": [
        "#addition by function\n",
        "\n",
        "c = op.add(a,b) #import library\n",
        "\n",
        "#print('addition by function', c )\n"
      ],
      "execution_count": 21,
      "outputs": []
    },
    {
      "cell_type": "code",
      "metadata": {
        "id": "Da68JGMgQRRQ"
      },
      "source": [
        "#subtruction by sytex\n",
        "\n",
        "c = a - b\n",
        "\n",
        "#print('subtruction by syntex', c)\n"
      ],
      "execution_count": 22,
      "outputs": []
    },
    {
      "cell_type": "code",
      "metadata": {
        "id": "eS_FkpT2Qv5b",
        "outputId": "23beba4e-bd84-4701-e697-18651a9fa478",
        "colab": {
          "base_uri": "https://localhost:8080/",
          "height": 34
        }
      },
      "source": [
        "#subtruction by function\n",
        "\n",
        "c = op.sub(a,b) # import operation\n",
        "\n",
        "print('subtruction by function', c) # output\n"
      ],
      "execution_count": 25,
      "outputs": [
        {
          "output_type": "stream",
          "text": [
            "subtruction by function -3\n"
          ],
          "name": "stdout"
        }
      ]
    },
    {
      "cell_type": "code",
      "metadata": {
        "id": "uRxvmY5rShX-"
      },
      "source": [
        ""
      ],
      "execution_count": null,
      "outputs": []
    }
  ]
}